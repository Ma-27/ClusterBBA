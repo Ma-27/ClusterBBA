{
 "cells": [
  {
   "cell_type": "markdown",
   "source": [
    "# 在 Colab 中调参 Glass 数据集（基于 tune_hyperparams_glass.py API）\n",
    "\n",
    "本 Notebook 使用项目中已有的 `tune_hyperparams_glass.py` 中的 `search` 等函数，简化调用。"
   ],
   "metadata": {},
   "id": "2ce3b70e-3350-4446-b6ce-088b975f1bdd"
  },
  {
   "cell_type": "code",
   "source": [
    "import itertools\n",
    "import os\n",
    "import sys\n",
    "\n",
    "from google.colab import drive\n",
    "\n",
    "# 挂载 Google Drive\n",
    "drive.mount('/content/drive')\n",
    "\n",
    "# 项目根目录路径（根据实际位置调整）\n",
    "project_root = '/content/drive/MyDrive/Cluster-Driven Data Fusion Based on Mass Functions'\n",
    "os.chdir(project_root)\n",
    "sys.path.insert(0, os.path.join(project_root, 'experiments'))\n",
    "if project_root not in sys.path:\n",
    "    sys.path.insert(0, project_root)\n",
    "\n",
    "print('工作目录：', os.getcwd())"
   ],
   "outputs": [],
   "execution_count": null,
   "metadata": {},
   "id": "fa6ac86d-23c2-4295-bd41-aa5e78bf0da0"
  },
  {
   "cell_type": "code",
   "source": [
    "# 安装依赖（如有 requirements.txt）\n",
    "!pip install -r requirements.txt"
   ],
   "outputs": [],
   "execution_count": null,
   "metadata": {},
   "id": "9720ea4c-ab3d-483c-8333-13414bb96265"
  },
  {
   "cell_type": "code",
   "source": [
    "# 导入已有 API\n",
    "from tune_hyperparams_glass import search\n",
    "\n",
    "# 设置候选超参数（可选，如 tune_hyperparams_glass 内已默认）\n",
    "candidates = [\n",
    "    0.001, 0.002, 0.005, 0.01, 0.02, 0.05, 0.1, 0.2, 0.3333, 0.4,\n",
    "    0.5, 0.6, 0.8, 1.0, 1.25, 1.6667, 2.0, 2.5, 3.0, 5.0,\n",
    "    10.0, 20.0, 50.0, 100.0, 200.0, 500.0, 1000.0\n",
    "]\n",
    "pairs = list(itertools.product(candidates, candidates))\n",
    "\n",
    "# 指定 CSV 路径\n",
    "csv_path = '/content/drive/MyDrive/Cluster-Driven Data Fusion Based on Mass Functions/data/xu_bba_seeds.csv'"
   ],
   "outputs": [],
   "execution_count": null,
   "metadata": {},
   "id": "2cb80ee6-a254-4daf-86a5-38d3efccc0f8"
  },
  {
   "cell_type": "code",
   "source": [
    "# 执行搜索并输出 Top N 结果\n",
    "results = search(pairs, csv_path=csv_path)\n",
    "for idx, (lam, mu, acc) in enumerate(results[:len(candidates)], start=1):\n",
    "    print(f'best {idx}: lambda={lam}, mu={mu}, acc={acc:.6f}')"
   ],
   "outputs": [],
   "execution_count": null,
   "metadata": {},
   "id": "1fd58486-9cfe-4b16-a6b6-18f249357bde"
  }
 ],
 "metadata": {
  "colab": {
   "name": "tune_hyperparams_glass_colab.ipynb",
   "authorship_tag": "2025-07-28T08:00:00Z"
  },
  "kernelspec": {
   "display_name": "Python 3",
   "language": "python",
   "name": "python3"
  },
  "language_info": {
   "name": "python",
   "version": "3.9"
  },
  "nteract": {
   "version": "0.28.0"
  }
 },
 "nbformat": 4,
 "nbformat_minor": 5
}
